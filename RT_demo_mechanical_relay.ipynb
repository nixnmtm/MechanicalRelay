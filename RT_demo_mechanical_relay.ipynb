{
 "cells": [
  {
   "cell_type": "markdown",
   "metadata": {},
   "source": [
    "# Rat Trypsin (RT) Mechanical Relay - demo"
   ]
  },
  {
   "cell_type": "code",
   "execution_count": 1,
   "metadata": {},
   "outputs": [],
   "source": [
    "import sys\n",
    "# Please append the appropriate project folder path below\n",
    "sys.path.append('/Users/Nix/PycharmProjects/MechanicalRelay/rigidityGraph')\n",
    "\n",
    "import os.path as path\n",
    "import numpy as np\n",
    "import pandas as pd\n",
    "from rg.base import BaseRG\n",
    "from rg.core import LoadKbTable, RGCore\n",
    "from natsort import natsorted\n",
    "import matplotlib.pyplot as plt\n",
    "import warnings; warnings.simplefilter('ignore')\n",
    "np.set_printoptions(formatter={'float': lambda x: \"{0:0.3f}\".format(x)})\n",
    "      \n",
    "RT = dict()\n",
    "prots = [\"holo\", \"apo\"]"
   ]
  },
  {
   "cell_type": "markdown",
   "metadata": {},
   "source": [
    "## Load the statistically learned data obatined from all-atom molecular dynamics"
   ]
  },
  {
   "cell_type": "code",
   "execution_count": 2,
   "metadata": {},
   "outputs": [
    {
     "name": "stdout",
     "output_type": "stream",
     "text": [
      "Shape of the holoRT data: (26503, 1007)\n",
      "Shape of the apoRT data: (23165, 757)\n"
     ]
    }
   ],
   "source": [
    "RT[\"holo\"] = dict()\n",
    "RT[\"apo\"] = dict()\n",
    "for prot in prots:\n",
    "    tab = LoadKbTable(filename=f\"{prot}RT_rigidity_data.txt\", input_path=\"./dataset/\")\n",
    "    kb_tab = tab.load_table()\n",
    "    if prot == \"apo\":\n",
    "        # The windows from which the conformational changes are observed are used.\n",
    "        kb_tab = kb_tab.drop(columns=[str(i) for i in range(1,251)])\n",
    "    print(f\"Shape of the {prot}RT data: {kb_tab.shape}\")\n",
    "    RT[prot][\"kb_tab\"] = kb_tab"
   ]
  },
  {
   "cell_type": "markdown",
   "metadata": {},
   "source": [
    "**Note:**<br>\n",
    "For each system (apoRT and holoRT) the rigidity matrix is constructed and spectral decomposed to obtain the eigen modes. This demo is focussed on mechanical relay and hence for detailed statistical analysis of obtaining prominent modes, please refer to **N. Raj, T. Click, H. Yang and J.-W. Chu, Comput. Struct.Biotechnol. J., 2021, 19, 5309–5320.** and the code and demo jupyter notebook can be found in https://data.mendeley.com/datasets/mv3tzvgjjz/2"
   ]
  },
  {
   "cell_type": "markdown",
   "metadata": {},
   "source": [
    "## Construct rigidity graph and statistical analysis"
   ]
  },
  {
   "cell_type": "code",
   "execution_count": 3,
   "metadata": {},
   "outputs": [
    {
     "name": "stdout",
     "output_type": "stream",
     "text": [
      "Executing holoRT-BB ....\n",
      "Executing holoRT-BS ....\n",
      "Executing holoRT-SS ....\n",
      "Executing apoRT-BB ....\n",
      "Executing apoRT-BS ....\n",
      "Executing apoRT-SS ....\n"
     ]
    }
   ],
   "source": [
    "# This may take few minutes to complete \n",
    "interSegs = (\"S1A\", \"INH\") # segids of protein and inhibitor\n",
    "ss_bonds = [(7,137), (25,41), (173,197), (148,162), (116, 183), (109,210), (5,55), (14,38), (30,51)]\n",
    "\n",
    "for prot in prots: \n",
    "    eigval = dict()\n",
    "    eigvec = dict()\n",
    "    resids = dict()\n",
    "    rigmat = dict()\n",
    "\n",
    "    for struc in [\"BB\",\"BS\",\"SS\"]:\n",
    "        print(f\"Executing {prot}RT-{struc} ....\")\n",
    "        if prot == \"holo\":\n",
    "            core = RGCore(RT[prot][\"kb_tab\"], interSegs=interSegs, sskey=struc, exclude_disul=True, disul_bonds=ss_bonds)\n",
    "        if prot == \"apo\":\n",
    "            core = RGCore(RT[prot][\"kb_tab\"], segid=\"S1A\", sskey=struc, exclude_disul=True, disul_bonds=ss_bonds)\n",
    "        #pers[struc] = core.average_mode_content()\n",
    "        resids[struc] = core.get_resids()                       \n",
    "        eigval[struc], eigvec[struc] = core.eigh_decom()\n",
    "        rigmat[struc] = core.rigidity_mat()\n",
    "    RT[prot][\"rigmat\"] = rigmat\n",
    "    RT[prot][\"eigval\"] = eigval\n",
    "    RT[prot][\"eigvec\"] = eigvec\n",
    "    RT[prot][\"resids\"] = resids"
   ]
  },
  {
   "cell_type": "code",
   "execution_count": 8,
   "metadata": {},
   "outputs": [],
   "source": [
    "# For residue number and name mappings\n",
    "import rg.extras as extras\n",
    "pdb_data = extras.parse_pdb(\"/Users/nix/PycharmProjects/MGTools/PDB/3TGI.pdb\")\n",
    "## Add calcium ion in the data\n",
    "pdb_data = pdb_data.append({'resid' : '800' , \n",
    "                            'resno' : '224', \n",
    "                            'chain_id': \"E\", \n",
    "                            'node_id': \"E800CAL\",\n",
    "                            'atom': 'CA',\n",
    "                            'resi_name': \"CAL\",\n",
    "                            'x':float(-8.669),\n",
    "                            'y':float(-75.041),\n",
    "                            'z':float(-13.418),\n",
    "                            'Record name':'ATOM'\n",
    "                           } , ignore_index=True)\n",
    "pdbno = pdb_data.resid.unique()[:223].tolist()\n",
    "pdbno.insert(224, \"CA\")\n",
    "\n",
    "# Get the amino acid formatted for labelling\n",
    "pdb_aa = extras.get_pdb_aaresid(\"/Users/nix/PycharmProjects/MGTools/PDB/3TGI.pdb\")[:223]\n",
    "pdb_aa = np.insert(pdb_aa, len(pdb_aa), \"CA\")\n",
    "\n",
    "from natsort import natsorted\n",
    "idx2aa = dict(zip(natsorted(RT[\"apo\"][\"resids\"][\"BB\"]), pdb_aa))\n",
    "idx2num = dict(zip(natsorted(RT[\"apo\"][\"resids\"][\"BB\"]), pdbno))\n",
    "aa2idx = dict(zip(pdb_aa,natsorted(RT[\"apo\"][\"resids\"][\"BB\"])))\n",
    "ss_res = RT[\"apo\"][\"resids\"][\"SS\"]\n",
    "ss_idx = [i for i in range(1,200)]\n",
    "ss_idx2res = dict(zip(ss_idx, ss_res))\n",
    "ss_idx2aa = dict(zip(ss_idx, [idx2aa[i]for i in ss_res]))\n",
    "ss_aa2idx = dict(zip([idx2aa[i]for i in ss_res],ss_idx))"
   ]
  },
  {
   "cell_type": "markdown",
   "metadata": {},
   "source": [
    "## Obtain the strongly coupled residue pairs for each system"
   ]
  },
  {
   "cell_type": "code",
   "execution_count": 5,
   "metadata": {},
   "outputs": [],
   "source": [
    "from rg.MechRelay.utils import *\n",
    "\n",
    "Aidx2idx = dict(zip(natsorted(RT[\"holo\"][\"resids\"][\"BB\"][:224]), range(1,225)))\n",
    "\n",
    "aRmat = dict()\n",
    "hRmat = dict()\n",
    "for sskey in [\"BB\",\"BS\",\"SS\"]:\n",
    "    if sskey == \"BB\":\n",
    "        Npos = 224\n",
    "    if sskey == \"BS\":\n",
    "        Npos = 223\n",
    "    if sskey == \"SS\":\n",
    "        Npos = 199\n",
    "        \n",
    "    aRmat[sskey] = build_rigidity_matrix_prommodes(val=RT[\"apo\"][\"eigval\"][sskey], vec=RT[\"apo\"][\"eigvec\"][sskey],\n",
    "                                              pmodes=promModes[\"apo\"][sskey], clean=True)\n",
    "    hRmat[sskey] = build_rigidity_matrix_prommodes(val=RT[\"holo\"][\"eigval\"][sskey], vec=RT[\"holo\"][\"eigvec\"][sskey],\n",
    "                                              pmodes=promModes[\"holo\"][sskey], clean=True)"
   ]
  },
  {
   "cell_type": "markdown",
   "metadata": {},
   "source": [
    "## Calculate the mechanical responses\n",
    "Get the residue pairs with $|\\Delta{k}_{IJ}| > 25\\%$"
   ]
  },
  {
   "cell_type": "code",
   "execution_count": 6,
   "metadata": {
    "scrolled": false
   },
   "outputs": [
    {
     "name": "stdout",
     "output_type": "stream",
     "text": [
      "\n",
      "############### BB ###############\n"
     ]
    },
    {
     "data": {
      "image/png": "[encoded data removed]",
      "text/plain": [
       "<Figure size 576x72 with 1 Axes>"
      ]
     },
     "metadata": {
      "needs_background": "light"
     },
     "output_type": "display_data"
    },
    {
     "name": "stdout",
     "output_type": "stream",
     "text": [
      "           kIJ(apoRT)  kIJ(holoRT)  kIJ(apoRT)-kIJ(holoRT)\n",
      "resI resJ                                                 \n",
      "I16  N143   11.087350     4.667109                6.420241\n",
      "V17  D189   15.131744    28.265699              -13.133955\n",
      "N34  Q64    13.200654    20.071378               -6.870724\n",
      "R67  Q81     4.176705     8.322807               -4.146102\n",
      "L68  Q81     9.905444    22.948907              -13.043463\n",
      "N72  V75     3.401881     7.470713               -4.068832\n",
      "     CA     24.738599    54.783303              -30.044704\n",
      "V75  CA     10.453939    23.968305              -13.514366\n",
      "D95  N100   14.020307     3.594493               10.425814\n",
      "G196 V213   16.597280     6.923306                9.673974\n",
      "W215 V227    0.684005    21.362305              -20.678300\n",
      "Look for ON/OFF residues pairs in BB\n",
      "Empty DataFrame\n",
      "Columns: [a, h, a-h]\n",
      "Index: []\n",
      "\n",
      "############### SS ###############\n"
     ]
    },
    {
     "data": {
      "image/png": "[encoded data removed]",
      "text/plain": [
       "<Figure size 576x72 with 1 Axes>"
      ]
     },
     "metadata": {
      "needs_background": "light"
     },
     "output_type": "display_data"
    },
    {
     "name": "stdout",
     "output_type": "stream",
     "text": [
      "           kIJ(apoRT)  kIJ(holoRT)  kIJ(apoRT)-kIJ(holoRT)\n",
      "resI resJ                                                 \n",
      "Q30  S139    7.967695     5.422648                2.545046\n",
      "S32  H40     0.000295     3.671466               -3.671172\n",
      "A56  D102    2.064899     4.651103               -2.586203\n",
      "H57  D102   15.241059     8.077308                7.163752\n",
      "E70  E80    11.320806     5.424273                5.896533\n",
      "     CA     53.827204    47.599518                6.227687\n",
      "E77  CA     17.562946    22.588701               -5.025755\n",
      "E80  CA     39.776210    45.304675               -5.528465\n",
      "D189 A221    1.583128     3.644753               -2.061625\n",
      "S214 T229    7.967430     5.472340                2.495091\n",
      "W215 V227    0.000000     5.820566               -5.820566\n",
      "Look for ON/OFF residues pairs in SS\n",
      "                  a         h       a-h\n",
      "resI resJ                              \n",
      "S32  H40   0.000295  3.671466 -3.671172\n",
      "H40  E151  0.619322  0.000037  0.619285\n",
      "H57  R96   1.893090  0.003328  1.889761\n",
      "W215 V227  0.000000  5.820566 -5.820566\n",
      "\n",
      "############### BS ###############\n"
     ]
    },
    {
     "data": {
      "image/png": "[encoded data removed]",
      "text/plain": [
       "<Figure size 576x72 with 1 Axes>"
      ]
     },
     "metadata": {
      "needs_background": "light"
     },
     "output_type": "display_data"
    },
    {
     "name": "stdout",
     "output_type": "stream",
     "text": [
      "           kIJ(apoRT)  kIJ(holoRT)  kIJ(apoRT)-kIJ(holoRT)\n",
      "resI resJ                                                 \n",
      "A56  D102   11.916089     5.181708                6.734380\n",
      "G69  R117    6.725788    12.017706               -5.291917\n",
      "E77  E80     6.203350    14.771679               -8.568329\n",
      "R96  W215    8.160188     0.000000                8.160188\n",
      "N143 N150    8.448550    11.529220               -3.080671\n",
      "S146 C220    2.286671    11.518449               -9.231778\n",
      "Y172 P225    5.022891    17.316854              -12.293963\n",
      "D189 A221    1.546810     5.591538               -4.044728\n",
      "C191 D194   15.053652    19.014496               -3.960844\n",
      "Look for ON/OFF residues pairs in BS\n",
      "                  a    h       a-h\n",
      "resI resJ                         \n",
      "R96  W215  8.160188  0.0  8.160188\n"
     ]
    }
   ],
   "source": [
    "delta_KIJ = {} \n",
    "deltaKIJ_cut = {}\n",
    "for sskey in [\"BB\",\"SS\", \"BS\"]:\n",
    "    print()\n",
    "    print(f\"{'#'*15} {sskey} {'#'*15}\")\n",
    "    if sskey == \"BB\":\n",
    "        Npos = 224  # includes Ca2+ ion as a residue\n",
    "        ssres = None\n",
    "    if sskey == \"SS\":\n",
    "        ssres = ss_res\n",
    "        Npos = 199 # 24 Gly residues are there\n",
    "    if sskey == \"BS\":\n",
    "        ssres=None\n",
    "        Npos = 223 \n",
    "        \n",
    "    aidx = get_ridity_indices(rigpro_mat=aRmat[sskey],\n",
    "                              rig_mat=RT[\"apo\"][\"rigmat\"][sskey], Npos=Npos, ssres=ssres)\n",
    "    hidx = get_ridity_indices(rigpro_mat=hRmat[sskey],\n",
    "                              rig_mat=RT[\"holo\"][\"rigmat\"][sskey], Npos=Npos, ssres=ssres, \n",
    "                              mapping=Aidx2idx)\n",
    "    pairs = merge_list_of_tuples(aidx, hidx)   \n",
    "    delta_KIJ[sskey] = allostery(merged_pairs=pairs, arigmat=RT[\"apo\"][\"rigmat\"][sskey], \n",
    "                           hrigmat=RT[\"holo\"][\"rigmat\"][sskey], mapping=Aidx2idx)\n",
    "    Q3, max_whisk = plot_get_whiskers(delta_KIJ[sskey][\"a-h\"])\n",
    "    deltaKIJ_cut[sskey] = np.trunc(Q3)\n",
    "    tmp = delta_KIJ[sskey][(abs(delta_KIJ[sskey][\"a-h\"]) > deltaKIJ_cut[sskey])]\n",
    "    \n",
    "    df = rename_IJ_df(tmp, mapping=idx2aa)\n",
    "    df.columns = [\"kIJ(apoRT)\", \"kIJ(holoRT)\", \"kIJ(apoRT)-kIJ(holoRT)\"]\n",
    "    print(df)\n",
    "    \n",
    "    print(f\"Look for ON/OFF residues pairs in {sskey}\")\n",
    "    on_off = delta_KIJ[sskey][((np.round(delta_KIJ[sskey][\"a\"],2)==0) & (np.round(delta_KIJ[sskey][\"h\"],2) !=0)) | \n",
    "                              ((np.round(delta_KIJ[sskey][\"h\"],2)==0) & (np.round(delta_KIJ[sskey][\"a\"],2) !=0))]\n",
    "    print(rename_IJ_df(on_off[abs(on_off[\"a-h\"]) > 0.5], mapping=idx2aa))"
   ]
  },
  {
   "cell_type": "markdown",
   "metadata": {},
   "source": [
    "## Plot the prominent mechanical resposnses ($|\\Delta{k}_{IJ}| > 25\\%$) as routes \n",
    "\n",
    "1. A line is put between two marks if a common residue is shared or if they have residues of nearby sequences (mostly  2, no more than 4 residues)\n",
    "2. The symmetry is exploited to represent the mechanical routes. See **Figure 3A** in the manuscript."
   ]
  },
  {
   "cell_type": "code",
   "execution_count": 9,
   "metadata": {},
   "outputs": [
    {
     "data": {
      "image/png": "[encoded data removed]",
      "text/plain": [
       "<Figure size 1080x864 with 2 Axes>"
      ]
     },
     "metadata": {
      "needs_background": "light"
     },
     "output_type": "display_data"
    }
   ],
   "source": [
    "# Plot\n",
    "from matplotlib.ticker import FixedLocator\n",
    "import networkx as nx\n",
    "from matplotlib.colors import LinearSegmentedColormap\n",
    "\n",
    "\n",
    "# Figure rendering style for publication\n",
    "def publication_style(fontsize):\n",
    "    plt.rc('font', family='Arial', serif=\"Arial\", weight='normal')\n",
    "    #plt.rc('text', usetex=False)\n",
    "    plt.rc('xtick', color='k', labelsize=fontsize, direction='out')\n",
    "    plt.rc('ytick', color='k', labelsize=fontsize, direction='out')\n",
    "    plt.rc('axes', labelsize=fontsize+2)\n",
    "    plt.rc('axes', labelweight='normal')\n",
    "    plt.rc('lines', markersize=1.2)\n",
    "    plt.rc('lines', linewidth=1)\n",
    "    plt.rc('legend', fontsize=fontsize)\n",
    "    plt.rc('xtick.major', size=10, width=2, pad=5)\n",
    "    plt.rc('xtick.minor', size=5, width=2, pad=5)\n",
    "    plt.rc('ytick.major', size=10, width=2, pad=5)\n",
    "    plt.rc('ytick.minor', size=5, width=2, pad=5)\n",
    "\n",
    "# pos is A dictionary with nodes as keys and positions as values. Positions should be sequences of length 2.\n",
    "#pos = {point: point for point in data_2_plot.index.values}\n",
    "\n",
    "g = nx.Graph()\n",
    "publication_style(fontsize=16)\n",
    "fig, ax = plt.subplots(1, figsize=(15,12))\n",
    "annotate = False\n",
    "\n",
    "colors = [\"magenta\", \"violet\", \"white\", \"gold\", \"orange\"]\n",
    "colors = [\"purple\", \"magenta\", \"white\", \"orange\", \"saddlebrown\"]\n",
    "cmap1 = LinearSegmentedColormap.from_list(\"mycmap\", colors)\n",
    "\n",
    "\n",
    "# Residues in contact with BPTI are included explicitly\n",
    "g.add_node((177,177),strength=1.2, pos=(177,177))\n",
    "g.add_node((175,175),strength=21.65, pos=(175,175))\n",
    "g.add_node((172,172),strength=10.5, pos=(172,172))\n",
    "g.add_node((131,131),strength=5.6, pos=(131,131))\n",
    "\n",
    "_pos = {n:g.nodes[n][\"pos\"] for n in g.nodes}\n",
    "\n",
    "nx.draw_networkx_nodes(g, pos=_pos, nodelist = [(177,177),(131,131)], node_size=160,\n",
    "                       ax=ax, node_shape=\"o\",node_color=[1.2,5.6], cmap=plt.cm.seismic, vmin=-25, vmax=25)\n",
    "nx.draw_networkx_nodes(g, pos=_pos, nodelist = [(175,175),], node_size=160,\n",
    "                                ax=ax, node_shape=\"s\",node_color=[21.65], cmap=plt.cm.seismic, vmin=-25, vmax=25)\n",
    "nx.draw_networkx_nodes(g, pos=_pos, nodelist = [(172,172),], node_size=160,\n",
    "                                ax=ax, node_shape=\"^\",node_color=[10.5], cmap=plt.cm.seismic, vmin=-25, vmax=25)\n",
    "\n",
    "labels = {n:(idx2aa[n[0]],idx2aa[n[1]]) for n in g.nodes if n != (1,223) and n != (223,1)}\n",
    "\n",
    "if annotate:\n",
    "    nx.draw_networkx_labels(g, _pos, labels)\n",
    "\n",
    "###############\n",
    "\n",
    "g_BB = nx.Graph()\n",
    "BB_2_plot = delta_KIJ[\"BB\"][\"a-h\"][abs(delta_KIJ[\"BB\"][\"a-h\"]) > deltaKIJ_cut[\"BB\"]].dropna()\n",
    "BB_2_plot = create_dups(BB_2_plot)\n",
    "\n",
    "for k in BB_2_plot.index.values:\n",
    "    g_BB.add_node(k,strength=BB_2_plot.loc[k], pos=k)\n",
    "\n",
    "\n",
    "\n",
    "BB_weights = [float(g_BB.nodes[n][\"strength\"]) for n in g_BB.nodes]\n",
    "BB_pos = {n: g_BB.nodes[n][\"pos\"] for n in g_BB.nodes}\n",
    "\n",
    "_nodes = nx.draw_networkx_nodes(g_BB, pos=BB_pos, nodelist = list(BB_2_plot.index.values), node_size=160,\n",
    "                                node_shape=\"s\",ax=ax, node_color=BB_weights, \n",
    "                                cmap=plt.cm.seismic, vmin=-25, vmax=25)\n",
    "\n",
    "labels = {n:(idx2aa[n[0]],idx2aa[n[1]]) for n in g_BB.nodes}\n",
    "if annotate:\n",
    "    nx.draw_networkx_labels(g_BB, BB_pos, labels, fontsize=8)\n",
    "\n",
    "#################\n",
    "\n",
    "g_SS = nx.Graph()\n",
    "SS_2_plot = delta_KIJ[\"SS\"][\"a-h\"][abs(delta_KIJ[\"SS\"][\"a-h\"]) > deltaKIJ_cut[\"SS\"]].dropna()\n",
    "SS_2_plot = pd.concat([SS_2_plot, delta_KIJ[\"SS\"][\"a-h\"].loc[[(40,78)]]])\n",
    "SS_2_plot = pd.concat([SS_2_plot, delta_KIJ[\"SS\"][\"a-h\"].loc[[(23,131)]]])\n",
    "SS_2_plot = create_dups(SS_2_plot)\n",
    "\n",
    "for k in SS_2_plot.index.values:\n",
    "    g_SS.add_node(k,strength=SS_2_plot.loc[k], pos=k)\n",
    "\n",
    "# Residues undergoing conformational changes and present in prominent modes with low weight cutoff\n",
    "# if present in other prominent modes included\n",
    "g_SS.add_node((40,78),strength=SS_2_plot.loc[(40,78)], pos=(40,78))\n",
    "g_SS.add_node((23,131),strength=0.62, pos=(23,131))\n",
    "g_SS.add_node((78,84),strength=9.03, pos=(78,84))\n",
    "g_SS.add_node((177,40),strength=4.63, pos=(177,40))\n",
    "SS_weights = [float(g_SS.nodes[n][\"strength\"]) for n in g_SS.nodes]\n",
    "SS_pos = {n: g_SS.nodes[n][\"pos\"] for n in g_SS.nodes}\n",
    "\n",
    "\n",
    "_nodes = nx.draw_networkx_nodes(g_SS, pos=SS_pos, nodelist = list(g_SS.nodes), node_size=160,\n",
    "                                node_shape=\"o\",ax=ax, node_color=SS_weights, \n",
    "                                cmap=plt.cm.seismic, vmin=-25, vmax=25)\n",
    "\n",
    "labels = {n:(idx2aa[n[0]],idx2aa[n[1]]) for n in g_SS.nodes}\n",
    "if annotate:\n",
    "    nx.draw_networkx_labels(g_SS, SS_pos, labels, fontsize=8)\n",
    "    \n",
    "################\n",
    "\n",
    "g_BS = nx.Graph()\n",
    "\n",
    "BS_2_plot = delta_KIJ[\"BS\"][\"a-h\"][abs(delta_KIJ[\"BS\"][\"a-h\"]) > deltaKIJ_cut[\"BS\"]].dropna()\n",
    "BS_2_plot = create_dups(BS_2_plot)\n",
    "\n",
    "for k in BS_2_plot.index.values:\n",
    "    g_BS.add_node(k,strength=BS_2_plot.loc[k], pos=k)\n",
    "\n",
    "BS_weights = [float(g_BS.nodes[n][\"strength\"]) for n in g_BS.nodes]\n",
    "BS_pos = {n: g_BS.nodes[n][\"pos\"] for n in g_BS.nodes}\n",
    "\n",
    "_nodes = nx.draw_networkx_nodes(g_BS, pos=BS_pos, nodelist = list(BS_2_plot.index.values), node_size=160,\n",
    "                                node_shape=\"^\",ax=ax, node_color=BS_weights, \n",
    "                                cmap=plt.cm.seismic, vmin=-25, vmax=25)\n",
    "labels = {n:(idx2aa[n[0]],idx2aa[n[1]]) for n in g_BS.nodes}\n",
    "if annotate:\n",
    "    nx.draw_networkx_labels(g_BS, BS_pos, labels, fontsize=8)\n",
    "\n",
    "\n",
    "ax.plot([-5,1,2,50,100,224,230],[-5,1,2,50,100,224,230], linestyle=\"--\", color=\"Gray\")\n",
    "ax.tick_params(left=True, bottom=True, labelleft=True, labelbottom=True)\n",
    "\n",
    "cb = plt.colorbar(_nodes)\n",
    "cb.set_label(label=r'Coupling Strength''\\n''$kcal/mol/A^2$', weight=\"normal\", fontsize=16)\n",
    "cblabel = ax.yaxis.label\n",
    "cb.ax.tick_params(axis='y', labelsize=16)\n",
    "\n",
    "xticklabels = [16, 40, 60, 80, 100, 120, 140, 160, 180, 200, 220, 240]\n",
    "yticklabels = [16, 40, 60, 80, 100, 120, 140, 160, 180, 200, 220, 240]\n",
    "aa2idx = dict(zip(pdbno,natsorted(RT[\"apo\"][\"resids\"][\"BB\"])))\n",
    "xtickpositions = [aa2idx[str(i)] for i in xticklabels]\n",
    "ytickpositions = [aa2idx[str(i)] for i in yticklabels]\n",
    "ax.get_xaxis().set_major_locator(FixedLocator(xtickpositions))\n",
    "ax.set_xticklabels(xticklabels)\n",
    "ax.get_yaxis().set_major_locator(FixedLocator(ytickpositions))\n",
    "ax.set_yticklabels(yticklabels)\n",
    "\n",
    "mxticklabels = [20, 30, 50, 70, 90, 110, 130, 150, 170, 190, 210, 230, \"CA\"]\n",
    "myticklabels = [20, 30, 50, 70, 90, 110, 130, 150, 170, 190, 210, 230, \"CA\"]\n",
    "minor_xtickpositions = [aa2idx[str(i)] for i in mxticklabels]\n",
    "minor_ytickpositions = [aa2idx[str(i)] for i in myticklabels]\n",
    "ax.get_xaxis().set_minor_locator(FixedLocator(minor_xtickpositions))\n",
    "ax.get_yaxis().set_minor_locator(FixedLocator(minor_ytickpositions))\n",
    "ax.tick_params(bottom=True, left=True, which='minor')\n",
    "#ax.tick_params(left=True, which='minor')\n",
    "ax.set_xlim(-5,224+5)\n",
    "ax.set_ylim(-5,224+5)\n",
    "plt.show()"
   ]
  }
 ],
 "metadata": {
  "kernelspec": {
   "display_name": "rigmat",
   "language": "python",
   "name": "rigmat"
  },
  "language_info": {
   "codemirror_mode": {
    "name": "ipython",
    "version": 3
   },
   "file_extension": ".py",
   "mimetype": "text/x-python",
   "name": "python",
   "nbconvert_exporter": "python",
   "pygments_lexer": "ipython3",
   "version": "3.7.10"
  }
 },
 "nbformat": 4,
 "nbformat_minor": 2
}
